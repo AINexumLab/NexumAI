{
 "cells": [
  {
   "cell_type": "code",
   "execution_count": 2,
   "metadata": {
    "collapsed": true,
    "jupyter": {
     "outputs_hidden": true
    },
    "scrolled": true
   },
   "outputs": [
    {
     "name": "stdout",
     "output_type": "stream",
     "text": [
      "Defaulting to user installation because normal site-packages is not writeable\n",
      "Collecting opencv-python\n",
      "  Downloading opencv_python-4.11.0.86-cp37-abi3-win_amd64.whl.metadata (20 kB)\n",
      "Requirement already satisfied: scikit-learn in c:\\programdata\\anaconda3\\lib\\site-packages (1.5.1)\n",
      "Requirement already satisfied: numpy in c:\\programdata\\anaconda3\\lib\\site-packages (1.26.4)\n",
      "Requirement already satisfied: scipy>=1.6.0 in c:\\programdata\\anaconda3\\lib\\site-packages (from scikit-learn) (1.13.1)\n",
      "Requirement already satisfied: joblib>=1.2.0 in c:\\programdata\\anaconda3\\lib\\site-packages (from scikit-learn) (1.4.2)\n",
      "Requirement already satisfied: threadpoolctl>=3.1.0 in c:\\programdata\\anaconda3\\lib\\site-packages (from scikit-learn) (3.5.0)\n",
      "Downloading opencv_python-4.11.0.86-cp37-abi3-win_amd64.whl (39.5 MB)\n",
      "   ---------------------------------------- 0.0/39.5 MB ? eta -:--:--\n",
      "   ---------------------------------------- 0.0/39.5 MB ? eta -:--:--\n",
      "   ---------------------------------------- 0.3/39.5 MB ? eta -:--:--\n",
      "    --------------------------------------- 0.5/39.5 MB 1.4 MB/s eta 0:00:28\n",
      "    --------------------------------------- 0.8/39.5 MB 1.4 MB/s eta 0:00:28\n",
      "   - -------------------------------------- 1.0/39.5 MB 1.3 MB/s eta 0:00:30\n",
      "   - -------------------------------------- 1.0/39.5 MB 1.3 MB/s eta 0:00:30\n",
      "   - -------------------------------------- 1.6/39.5 MB 1.3 MB/s eta 0:00:31\n",
      "   - -------------------------------------- 1.8/39.5 MB 1.3 MB/s eta 0:00:30\n",
      "   -- ------------------------------------- 2.1/39.5 MB 1.4 MB/s eta 0:00:28\n",
      "   -- ------------------------------------- 2.4/39.5 MB 1.4 MB/s eta 0:00:27\n",
      "   -- ------------------------------------- 2.9/39.5 MB 1.4 MB/s eta 0:00:26\n",
      "   --- ------------------------------------ 3.4/39.5 MB 1.5 MB/s eta 0:00:25\n",
      "   --- ------------------------------------ 3.7/39.5 MB 1.6 MB/s eta 0:00:23\n",
      "   ---- ----------------------------------- 4.2/39.5 MB 1.6 MB/s eta 0:00:22\n",
      "   ----- ---------------------------------- 5.0/39.5 MB 1.7 MB/s eta 0:00:20\n",
      "   ----- ---------------------------------- 5.5/39.5 MB 1.8 MB/s eta 0:00:19\n",
      "   ----- ---------------------------------- 5.8/39.5 MB 1.8 MB/s eta 0:00:19\n",
      "   ------ --------------------------------- 6.6/39.5 MB 1.9 MB/s eta 0:00:18\n",
      "   ------- -------------------------------- 7.3/39.5 MB 2.0 MB/s eta 0:00:17\n",
      "   ------- -------------------------------- 7.9/39.5 MB 2.0 MB/s eta 0:00:16\n",
      "   -------- ------------------------------- 8.4/39.5 MB 2.1 MB/s eta 0:00:16\n",
      "   --------- ------------------------------ 8.9/39.5 MB 2.1 MB/s eta 0:00:15\n",
      "   --------- ------------------------------ 9.4/39.5 MB 2.1 MB/s eta 0:00:15\n",
      "   ---------- ----------------------------- 10.2/39.5 MB 2.2 MB/s eta 0:00:14\n",
      "   ---------- ----------------------------- 10.7/39.5 MB 2.2 MB/s eta 0:00:13\n",
      "   ----------- ---------------------------- 11.5/39.5 MB 2.3 MB/s eta 0:00:13\n",
      "   ------------ --------------------------- 12.3/39.5 MB 2.3 MB/s eta 0:00:12\n",
      "   ------------- -------------------------- 13.1/39.5 MB 2.4 MB/s eta 0:00:12\n",
      "   -------------- ------------------------- 14.2/39.5 MB 2.5 MB/s eta 0:00:11\n",
      "   -------------- ------------------------- 14.7/39.5 MB 2.5 MB/s eta 0:00:11\n",
      "   --------------- ------------------------ 15.5/39.5 MB 2.5 MB/s eta 0:00:10\n",
      "   ---------------- ----------------------- 16.5/39.5 MB 2.6 MB/s eta 0:00:09\n",
      "   ----------------- ---------------------- 17.3/39.5 MB 2.6 MB/s eta 0:00:09\n",
      "   ------------------ --------------------- 17.8/39.5 MB 2.6 MB/s eta 0:00:09\n",
      "   ------------------ --------------------- 18.6/39.5 MB 2.7 MB/s eta 0:00:08\n",
      "   ------------------- -------------------- 19.7/39.5 MB 2.7 MB/s eta 0:00:08\n",
      "   -------------------- ------------------- 20.2/39.5 MB 2.8 MB/s eta 0:00:08\n",
      "   --------------------- ------------------ 21.0/39.5 MB 2.8 MB/s eta 0:00:07\n",
      "   ---------------------- ----------------- 21.8/39.5 MB 2.8 MB/s eta 0:00:07\n",
      "   ----------------------- ---------------- 22.8/39.5 MB 2.9 MB/s eta 0:00:06\n",
      "   ------------------------ --------------- 23.9/39.5 MB 2.9 MB/s eta 0:00:06\n",
      "   ------------------------ --------------- 24.6/39.5 MB 2.9 MB/s eta 0:00:06\n",
      "   -------------------------- ------------- 26.0/39.5 MB 3.0 MB/s eta 0:00:05\n",
      "   --------------------------- ------------ 27.0/39.5 MB 3.1 MB/s eta 0:00:05\n",
      "   ---------------------------- ----------- 28.0/39.5 MB 3.1 MB/s eta 0:00:04\n",
      "   ----------------------------- ---------- 28.8/39.5 MB 3.1 MB/s eta 0:00:04\n",
      "   ----------------------------- ---------- 29.4/39.5 MB 3.1 MB/s eta 0:00:04\n",
      "   ------------------------------ --------- 30.4/39.5 MB 3.1 MB/s eta 0:00:03\n",
      "   ------------------------------- -------- 31.5/39.5 MB 3.2 MB/s eta 0:00:03\n",
      "   -------------------------------- ------- 32.5/39.5 MB 3.2 MB/s eta 0:00:03\n",
      "   --------------------------------- ------ 33.6/39.5 MB 3.3 MB/s eta 0:00:02\n",
      "   ----------------------------------- ---- 34.9/39.5 MB 3.3 MB/s eta 0:00:02\n",
      "   ------------------------------------ --- 35.7/39.5 MB 3.3 MB/s eta 0:00:02\n",
      "   ------------------------------------- -- 36.7/39.5 MB 3.4 MB/s eta 0:00:01\n",
      "   ------------------------------------- -- 37.5/39.5 MB 3.4 MB/s eta 0:00:01\n",
      "   ---------------------------------------  38.5/39.5 MB 3.4 MB/s eta 0:00:01\n",
      "   ---------------------------------------  39.3/39.5 MB 3.4 MB/s eta 0:00:01\n",
      "   ---------------------------------------- 39.5/39.5 MB 3.4 MB/s eta 0:00:00\n",
      "Installing collected packages: opencv-python\n",
      "Successfully installed opencv-python-4.11.0.86\n"
     ]
    }
   ],
   "source": [
    "!pip install opencv-python scikit-learn numpy"
   ]
  },
  {
   "cell_type": "code",
   "execution_count": 2,
   "metadata": {},
   "outputs": [],
   "source": [
    "# Import required libraries\n",
    "import os\n",
    "import cv2\n",
    "import numpy as np\n",
    "from sklearn.svm import SVC\n",
    "from sklearn.metrics import classification_report\n",
    "from sklearn.preprocessing import LabelEncoder\n",
    "from sklearn.pipeline import make_pipeline\n",
    "from sklearn.preprocessing import StandardScaler"
   ]
  },
  {
   "cell_type": "code",
   "execution_count": 3,
   "metadata": {},
   "outputs": [],
   "source": [
    "# Define a function to load and preprocess images from a given folder\n",
    "def load_images_from_folder(base_path, image_size=(128 , 128)):\n",
    "    images = []\n",
    "    labels = []\n",
    "\n",
    "    for class_name in sorted(os.listdir(base_path)):\n",
    "        class_path = os.path.join(base_path, class_name)\n",
    "        if not os.path.isdir(class_path):\n",
    "            continue\n",
    "\n",
    "        for img_file in os.listdir(class_path):\n",
    "            img_path = os.path.join(class_path, img_file)\n",
    "            img = cv2.imread(img_path)\n",
    "\n",
    "            if img is not None:\n",
    "                img = cv2.resize(img, image_size)\n",
    "                images.append(img.flatten())\n",
    "                labels.append(class_name)\n",
    "\n",
    "    return np.array(images), np.array(labels)"
   ]
  },
  {
   "cell_type": "code",
   "execution_count": 10,
   "metadata": {},
   "outputs": [],
   "source": [
    "# Main function to train and evaluate the SVM classifier\n",
    "def run_image_classifier(train_folder, test_folder):\n",
    "    print(\"Loading training data...\")\n",
    "    X_train, y_train = load_images_from_folder(train_folder)\n",
    "    print(f\"Loaded {len(X_train)} training images.\")\n",
    "\n",
    "    print(\"Loading test data...\")\n",
    "    X_test, y_test = load_images_from_folder(test_folder)\n",
    "    print(f\"Loaded {len(X_test)} test images.\")\n",
    "\n",
    "    label_encoder = LabelEncoder()\n",
    "    y_train_encoded = label_encoder.fit_transform(y_train)\n",
    "    y_test_encoded = label_encoder.transform(y_test)\n",
    "\n",
    "    print(\"Training SVM classifier...\")\n",
    "    model = make_pipeline(StandardScaler(), SVC(kernel='sigmoid', C=1.0 , random_state=42))\n",
    "    model.fit(X_train, y_train_encoded)\n",
    "\n",
    "    print(\"Evaluating model...\")\n",
    "    y_pred = model.predict(X_test)\n",
    "    print(classification_report(y_test_encoded, y_pred, target_names=label_encoder.classes_))"
   ]
  },
  {
   "cell_type": "code",
   "execution_count": 12,
   "metadata": {},
   "outputs": [
    {
     "name": "stdout",
     "output_type": "stream",
     "text": [
      "Loading training data...\n",
      "Loaded 2846 training images.\n",
      "Loading test data...\n",
      "Loaded 153 test images.\n",
      "Training SVM classifier...\n",
      "Evaluating model...\n",
      "              precision    recall  f1-score   support\n",
      "\n",
      "        cats       0.42      0.49      0.45        51\n",
      "        dogs       0.51      0.41      0.46        51\n",
      "       panda       0.65      0.67      0.66        51\n",
      "\n",
      "    accuracy                           0.52       153\n",
      "   macro avg       0.53      0.52      0.52       153\n",
      "weighted avg       0.53      0.52      0.52       153\n",
      "\n"
     ]
    }
   ],
   "source": [
    "# Provide paths to your training and test data directories\n",
    "train_folder = r\"D:\\Animals Dataset\\Animals Dataset\\Train Data\"  # e.g., \"D:\\Animals Dataset\\Animals Dataset\\Train Data\"    D:\\cifar10-raw-images\\images\\train\n",
    "test_folder = r\"D:\\Animals Dataset\\Animals Dataset\\Test Data\"    # e.g., \"D:\\Animals Dataset\\Animals Dataset\\Test Data\"    D:\\cifar10-raw-images\\images\\test\n",
    "\n",
    "# Run the classifier\n",
    "run_image_classifier(train_folder, test_folder)"
   ]
  },
  {
   "cell_type": "code",
   "execution_count": null,
   "metadata": {},
   "outputs": [],
   "source": []
  }
 ],
 "metadata": {
  "kernelspec": {
   "display_name": "Python 3 (ipykernel)",
   "language": "python",
   "name": "python3"
  },
  "language_info": {
   "codemirror_mode": {
    "name": "ipython",
    "version": 3
   },
   "file_extension": ".py",
   "mimetype": "text/x-python",
   "name": "python",
   "nbconvert_exporter": "python",
   "pygments_lexer": "ipython3",
   "version": "3.12.7"
  }
 },
 "nbformat": 4,
 "nbformat_minor": 4
}
